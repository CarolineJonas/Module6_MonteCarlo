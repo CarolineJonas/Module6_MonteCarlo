{
 "cells": [
  {
   "cell_type": "markdown",
   "metadata": {},
   "source": [
    "**Méthodes numériques, PHYS-F303 (Module 6).***\n",
    "*********************************\n",
    "Méthode de Monte-Carlo, Mouvement Brownien, Modèle d'Ising\n",
    "==\n",
    "### But #\n",
    "Travailler avec des nombres pseudo-aléatoires pour générer une certaine distribution  etc.\n",
    "\n"
   ]
  },
  {
   "cell_type": "code",
   "execution_count": 1,
   "metadata": {
    "collapsed": true
   },
   "outputs": [],
   "source": [
    "%matplotlib inline\n",
    "import numpy\n",
    "from matplotlib import pyplot\n",
    "from matplotlib import animation\n",
    "import matplotlib.cm as cm\n",
    "from JSAnimation.IPython_display import display_animation"
   ]
  },
  {
   "cell_type": "markdown",
   "metadata": {},
   "source": [
    "## Challenge 1: Nombres aléatoires\n",
    "Enoncé:\n",
    "\"1) Python has many built-in random number generators. Check-out the documentation and try a couple of ones. In particular, compare the output of the built-in expontential and Gaussian generators with the versions implemented above.\n",
    "\n",
    "2) Another popular method to generate numbers according to the Gaussian distribution is known as the Box–Muller algorithm. Look up its definition on the web, try to implement it and verify that it works as expected.\""
   ]
  },
  {
   "cell_type": "markdown",
   "metadata": {},
   "source": [
    "## Challenge 2: Mouvement aléatoire\n",
    "Enoncé:\n",
    "\"- Add as systematic contribution to the displacement $dx$,\n",
    "\n",
    "$$\n",
    "dx=cdt+\\sqrt{2\\alpha dt}\\cal{N(0,1)}\n",
    "$$\n",
    "\n",
    "where $c$ is a constant and analyse the behaviour of the random walk. Can you guess the corresponding equation governing the evolution of the density in this case? What is the analitical solution for an initial Gaussian distribution?\n",
    "\n",
    "- Simulate the following random walk with a 'friction' term:\n",
    "\n",
    "$$\n",
    "dx=-\\gamma x dt + \\sqrt{2\\alpha dt}\\cal{N(0,1)}\n",
    "$$\n",
    "\n",
    "Check that the distribution reaches a steady state for $t\\rightarrow \\infty$. Can you guess the corresponding equation governing the evolution of the density in this case? What is analytical form for the steady state? These last two questions are not easy!\""
   ]
  },
  {
   "cell_type": "markdown",
   "metadata": {},
   "source": [
    "## Challenge 3: Modèle d'Ising\n",
    "Enoncé:\"\n",
    "- Perform a series of runs with $\\alpha \\in [0 1]$ and plot the average energy of the system and its magnetisation as a function of $\\alpha$. Estimate the critical value of $\\alpha$ at which the phase transition occurs. Is it compatible with Onsager's exact solution for the system?\n",
    "- Redo the analysis with a different set of boundary conditions for the lattice and a different initial lattice configuration. For example, you could assume that on the borders all the spins are pointing upwards on the borders while they are randomly oriented in the bulk.\""
   ]
  },
  {
   "cell_type": "code",
   "execution_count": null,
   "metadata": {
    "collapsed": true
   },
   "outputs": [],
   "source": []
  }
 ],
 "metadata": {
  "anaconda-cloud": {},
  "kernelspec": {
   "display_name": "Python [Root]",
   "language": "python",
   "name": "Python [Root]"
  },
  "language_info": {
   "codemirror_mode": {
    "name": "ipython",
    "version": 3
   },
   "file_extension": ".py",
   "mimetype": "text/x-python",
   "name": "python",
   "nbconvert_exporter": "python",
   "pygments_lexer": "ipython3",
   "version": "3.4.5"
  }
 },
 "nbformat": 4,
 "nbformat_minor": 0
}
