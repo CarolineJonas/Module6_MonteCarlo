{
 "cells": [
  {
   "cell_type": "markdown",
   "metadata": {},
   "source": [
    "**Méthodes numériques, PHYS-F303 (Module 6).***\n",
    "*********************************\n",
    "Méthode de Monte-Carlo, Mouvement Brownien, Modèle d'Ising\n",
    "==\n",
    "### But #\n",
    "Travailler avec des nombres pseudo-aléatoires pour générer une certaine distribution  etc.\n",
    "\n"
   ]
  },
  {
   "cell_type": "markdown",
   "metadata": {},
   "source": [
    "## Challenge 1: Nombres aléatoires\n",
    "Enoncé:\n",
    "\"1) Python has many built-in random number generators. Check-out the documentation and try a couple of ones. In particular, compare the output of the built-in expontential and Gaussian generators with the versions implemented above.\n",
    "\n",
    "2) Another popular method to generate numbers according to the Gaussian distribution is known as the Box–Muller algorithm. Look up its definition on the web, try to implement it and verify that it works as expected.\""
   ]
  },
  {
   "cell_type": "markdown",
   "metadata": {},
   "source": [
    "### Question 1:"
   ]
  },
  {
   "cell_type": "code",
   "execution_count": 1,
   "metadata": {
    "collapsed": true
   },
   "outputs": [],
   "source": [
    "from matplotlib import pyplot\n",
    "import numpy\n",
    "%matplotlib inline\n",
    "from matplotlib import rcParams\n",
    "rcParams['font.family'] = 'serif'\n",
    "rcParams['font.size'] = 16"
   ]
  },
  {
   "cell_type": "code",
   "execution_count": null,
   "metadata": {
    "collapsed": false
   },
   "outputs": [],
   "source": [
    "i=0\n",
    "a=numpy.zeros(100000)\n",
    "while i<(len(a)-1) :\n",
    "    \n",
    "    \n",
    "    a[i]=(numpy.random.uniform(42,50))\n",
    "    i+=1"
   ]
  },
  {
   "cell_type": "code",
   "execution_count": null,
   "metadata": {
    "collapsed": true
   },
   "outputs": [],
   "source": [
    "i=0\n",
    "b=numpy.zeros(100000)\n",
    "while i<(len(a)-1) :\n",
    "    \n",
    "    t=numpy.random.random()\n",
    "    b[i]=(42*(1-t)+t*50)\n",
    "    i+=1"
   ]
  },
  {
   "cell_type": "code",
   "execution_count": null,
   "metadata": {
    "collapsed": false
   },
   "outputs": [],
   "source": [
    "pyplot.title('Méthode avec générateur implémenté')\n",
    "pyplot.xlim(41,51)\n",
    "bins=numpy.arange(42,50.2, 0.2)\n",
    "pyplot.hist(a,bins,normed=False, color = 'red');\n",
    "\n",
    "xc = bins[:-1]\n",
    "\n",
    "# nombre de bins de 42 à 50: n_bins = len(bins)-2\n",
    "# nombre d'éléments par bin pour une répartition parfaitement uniforme  100000/n_bins\n",
    "\n",
    "n_bins = len(bins)-2\n",
    "y = numpy.ones(len(xc))*(100000/(n_bins))\n",
    "pyplot.plot(xc,y,lw=1.5,color='green')\n"
   ]
  },
  {
   "cell_type": "code",
   "execution_count": null,
   "metadata": {
    "collapsed": false
   },
   "outputs": [],
   "source": [
    "pyplot.title('Autre Méthode')\n",
    "pyplot.xlim(41,51)\n",
    "bins=numpy.arange(42,50.2, 0.2)\n",
    "pyplot.hist(b,bins,normed=False, color = 'blue');\n",
    "\n",
    "xc = bins[:-1]\n",
    "\n",
    "# nombre de bins de 42 à 50: n_bins = len(bins)-2\n",
    "# nombre d'éléments par bin pour une répartition parfaitement uniforme  100000/n_bins\n",
    "\n",
    "n_bins = len(bins)-2\n",
    "y = numpy.ones(len(xc))*(100000/(n_bins))\n",
    "pyplot.plot(xc,y,lw=1.5,color='green')\n"
   ]
  },
  {
   "cell_type": "code",
   "execution_count": null,
   "metadata": {
    "collapsed": false,
    "scrolled": false
   },
   "outputs": [],
   "source": [
    "# Number of random numbers to draw according to p1 \n",
    "K = 1.4\n",
    "\n",
    "# Empty list for the final set of numbers\n",
    "h=[]\n",
    "\n",
    "while len(h)<100000:\n",
    "    u1 = numpy.random.random_sample()\n",
    "    \n",
    "    # Distribute g according to the exponential distribution\n",
    "    g = numpy.log(1/(1-u1))\n",
    "    \n",
    "    # Generate a second number for the acceptance/rejection condition\n",
    "    u2 = numpy.random.random_sample()\n",
    "    \n",
    "    # Acceptance/rejection step\n",
    "    ratio = 2*numpy.exp(-g**2/2.0)/numpy.sqrt(2*numpy.pi) / \\\n",
    "                (K*numpy.exp(-g))\n",
    "    if (u2<ratio):\n",
    "        # Append g to the set h\n",
    "        h.append(g)\n",
    "\n",
    "\n",
    "# Plots\n",
    "binwidth=0.1\n",
    "bins=numpy.arange(0.,5.1, binwidth)\n",
    "pyplot.title('Méthode du mooc')\n",
    "pyplot.hist(h,bins=numpy.arange(0.,5., binwidth),normed=True,color='blue');\n",
    "\n",
    "# Compute centers of bins\n",
    "xc = bins[:-1] + binwidth/2\n",
    "pyplot.plot(xc,2*numpy.exp(-xc**2/2.0)/numpy.sqrt(2*numpy.pi),lw=1.5,color='green')\n"
   ]
  },
  {
   "cell_type": "code",
   "execution_count": null,
   "metadata": {
    "collapsed": false
   },
   "outputs": [],
   "source": [
    "a=(numpy.random.normal(0,1,size=100000))\n",
    "\n",
    "for i in range (len(a)) :\n",
    "    if a[i]<0 :\n",
    "        while a[i]<0 :\n",
    "            a[i]=(numpy.random.normal(0,1,size=None))\n",
    "\n",
    "# Plots\n",
    "binwidth=0.1\n",
    "bins=numpy.arange(0.,5.1, binwidth)\n",
    "pyplot.title('Méthode avec générateur implémenté')\n",
    "pyplot.hist(a,bins=numpy.arange(0,5., binwidth),normed=True,color='Red');\n",
    "\n",
    "# Compute centers of bins\n",
    "xc = bins[:-1] + binwidth/2\n",
    "pyplot.plot(xc,2*numpy.exp(-xc**2/2.0)/numpy.sqrt(2*numpy.pi),lw=1.5,color='green')\n"
   ]
  },
  {
   "cell_type": "code",
   "execution_count": null,
   "metadata": {
    "collapsed": false
   },
   "outputs": [],
   "source": [
    "alpha = 1 # rate of the exponential distribution\n",
    "x = numpy.random.random_sample(100000)\n",
    "y = -1/alpha*numpy.log(1-x)\n",
    "\n",
    "# Plots\n",
    "binwidth=0.1\n",
    "pyplot.xlim(0,5.1)\n",
    "bins=numpy.arange(0.,5.1, binwidth)\n",
    "pyplot.title('Méthode du Mooc')\n",
    "pyplot.hist(y,bins,normed=True);\n",
    "\n",
    "# Compute centers of bins\n",
    "xc = bins[:-1] + binwidth/2\n",
    "pyplot.plot(xc,alpha*numpy.exp(-alpha*xc), lw=1.5)\n"
   ]
  },
  {
   "cell_type": "code",
   "execution_count": null,
   "metadata": {
    "collapsed": false
   },
   "outputs": [],
   "source": [
    "a=numpy.random.exponential(size=100000)\n",
    "\n",
    "binwidth=0.1\n",
    "bins=numpy.arange(0.,5.1, binwidth)\n",
    "xc = bins[:-1] + binwidth/2\n",
    "pyplot.plot(xc,numpy.exp(-xc),lw=1.5,color='green')\n",
    "\n",
    "pyplot.title('Méthode avec générateur implémenté')\n",
    "pyplot.xlim(0,5)\n",
    "pyplot.hist(a,bins=numpy.arange(-3.,5., binwidth),normed=True, color = 'red');\n"
   ]
  },
  {
   "cell_type": "markdown",
   "metadata": {},
   "source": [
    "### Question 2: Box Muller algorithm\n",
    "\n",
    "On part de deux variables aléatoires indépendantes $U$ et $V$ uniformément distribuées sur [0,1]. L'algorithm de Box Muller les transforme en deux variables aléatoires indépendantes distribuées selon une Gaussienne de moyenne 0 et d'écart-type 1:\n",
    "$$Z=\\sqrt{-2ln(U)}cos(2\\pi V)$$\n",
    "$$W=\\sqrt{-2ln(U)}sin(2\\pi V)$$\n"
   ]
  },
  {
   "cell_type": "code",
   "execution_count": null,
   "metadata": {
    "collapsed": false
   },
   "outputs": [],
   "source": [
    "i=0\n",
    "u=numpy.zeros(100000)\n",
    "v=numpy.zeros(100000)\n",
    "while i<(len(u)) :\n",
    "    u[i]=(numpy.random.uniform(0,1))\n",
    "    v[i]=(numpy.random.uniform(0,1))\n",
    "    i+=1"
   ]
  },
  {
   "cell_type": "code",
   "execution_count": null,
   "metadata": {
    "collapsed": false
   },
   "outputs": [],
   "source": [
    "binwidth=0.05\n",
    "pyplot.xlim(-0.5,1.5)\n",
    "pyplot.hist(u,bins=numpy.arange(-0.5,1.5, binwidth),normed=True);"
   ]
  },
  {
   "cell_type": "code",
   "execution_count": null,
   "metadata": {
    "collapsed": false
   },
   "outputs": [],
   "source": [
    "binwidth=0.05\n",
    "pyplot.xlim(-0.5,1.5)\n",
    "bins=numpy.arange(-0.5,1.5, binwidth)\n",
    "pyplot.hist(v,bins,normed=True,color='purple');"
   ]
  },
  {
   "cell_type": "code",
   "execution_count": null,
   "metadata": {
    "collapsed": false
   },
   "outputs": [],
   "source": [
    "z=numpy.zeros(100000)\n",
    "w=numpy.zeros(100000)\n",
    "for j in range (0,len(u)):\n",
    "    z[j]=numpy.sqrt(-2*numpy.log(u[j]))*numpy.cos(2*numpy.pi*v[j])\n",
    "    w[j]=numpy.sqrt(-2*numpy.log(u[j]))*numpy.sin(2*numpy.pi*v[j])"
   ]
  },
  {
   "cell_type": "code",
   "execution_count": null,
   "metadata": {
    "collapsed": false
   },
   "outputs": [],
   "source": [
    "binwidth=0.05\n",
    "bins=numpy.arange(-3.,3., binwidth)\n",
    "pyplot.xlim(-3,3)\n",
    "pyplot.hist(z,bins,normed=True, color='red');\n",
    "\n",
    "xc = bins+(binwidth/2)\n",
    "pyplot.plot(xc,numpy.exp(-xc**2/2.0)/numpy.sqrt(2*numpy.pi),lw=1.5,color='blue')"
   ]
  },
  {
   "cell_type": "code",
   "execution_count": null,
   "metadata": {
    "collapsed": false
   },
   "outputs": [],
   "source": [
    "binwidth=0.05\n",
    "pyplot.xlim(-3,3)\n",
    "bins=numpy.arange(-3.,3., binwidth)\n",
    "pyplot.hist(w,bins,normed=True,color='green');\n",
    "xc = bins+(binwidth/2)\n",
    "pyplot.plot(xc,numpy.exp(-xc**2/2.0)/numpy.sqrt(2*numpy.pi),lw=1.5,color='blue')"
   ]
  },
  {
   "cell_type": "markdown",
   "metadata": {},
   "source": [
    "## Challenge 2: Mouvement aléatoire"
   ]
  },
  {
   "cell_type": "markdown",
   "metadata": {},
   "source": [
    "### 1."
   ]
  },
  {
   "cell_type": "markdown",
   "metadata": {},
   "source": [
    "\"- Add as systematic contribution to the displacement $dx$,\n",
    "\n",
    "$$\n",
    "dx=cdt+\\sqrt{2\\alpha dt}\\cal{N(0,1)}\n",
    "$$\n",
    "\n",
    "where $c$ is a constant and analyse the behaviour of the random walk. Can you guess the corresponding equation governing the evolution of the density in this case? What is the analytical solution for an initial Gaussian distribution?"
   ]
  },
  {
   "cell_type": "code",
   "execution_count": null,
   "metadata": {
    "collapsed": true
   },
   "outputs": [],
   "source": [
    "# Generate a set of initial positions based on the Gaussian distribution\n",
    "npart=100000\n",
    "\n",
    "# We set mu=0\n",
    "sigma = 1.0\n",
    "x0 = numpy.random.normal(loc=0,scale=sigma,size=npart)"
   ]
  },
  {
   "cell_type": "code",
   "execution_count": null,
   "metadata": {
    "collapsed": false
   },
   "outputs": [],
   "source": [
    "T=50.0\n",
    "nt=500\n",
    "dt=T/nt\n",
    "alpha=2.0\n",
    "\n",
    "c=[-5,0,5]\n",
    "\n",
    "for j in range(len(c)):\n",
    "\n",
    "    t = numpy.arange(0,T+dt,dt)\n",
    "    x = numpy.empty([nt+1,npart])\n",
    "\n",
    "    x[0]=x0\n",
    "\n",
    "    for i in range(nt):\n",
    "   \n",
    "            x[i+1]=x[i]+c[j]*dt+numpy.sqrt(2*alpha*dt)*numpy.random.normal(0,1,npart)\n",
    "\n",
    "    for i in range(20):\n",
    "        pyplot.figure(1)\n",
    "        pyplot.title('Trajectoires')\n",
    "        pyplot.plot(t,x[:,i])\n",
    "    \n",
    "    pyplot.figure(2)\n",
    "    pyplot.title('Distributions au temps final')\n",
    "    pyplot.hist(x[nt],bins=numpy.arange(-300,300., 0.5),normed=False, color='red');"
   ]
  },
  {
   "cell_type": "markdown",
   "metadata": {},
   "source": [
    "=> Le terme c.dt peut donc être vu comme un terme de dérive jouant sur toutes les particules de la même manière et n'affectant donc pas la distribution des particules durant leur évolution."
   ]
  },
  {
   "cell_type": "markdown",
   "metadata": {},
   "source": [
    "### 2."
   ]
  },
  {
   "cell_type": "markdown",
   "metadata": {},
   "source": [
    "- Simulate the following random walk with a 'friction' term:\n",
    "\n",
    "$$\n",
    "dx=-\\gamma x dt + \\sqrt{2\\alpha dt}\\cal{N(0,1)}\n",
    "$$\n",
    "\n",
    "Check that the distribution reaches a steady state for $t\\rightarrow \\infty$. Can you guess the corresponding equation governing the evolution of the density in this case? What is analytical form for the steady state? These last two questions are not easy!\""
   ]
  },
  {
   "cell_type": "code",
   "execution_count": null,
   "metadata": {
    "collapsed": false
   },
   "outputs": [],
   "source": [
    "T=200.0\n",
    "nt=500\n",
    "dt=T/nt\n",
    "alpha=2.0\n",
    "\n",
    "#gamma=0\n",
    "\n",
    "t = numpy.arange(0,T+dt,dt)\n",
    "x = numpy.empty([nt+1,npart])\n",
    "\n",
    "x[0]=x0\n",
    "\n",
    "for i in range(nt):\n",
    "   \n",
    "        x[i+1]=x[i]+numpy.sqrt(2*alpha*dt)*numpy.random.normal(0,1,npart)\n",
    "    \n",
    "pyplot.figure(2)\n",
    "pyplot.title('Distributions au temps final')\n",
    "pyplot.hist(x[nt],bins=numpy.arange(-300,300., 0.5),normed=False, color='red');"
   ]
  },
  {
   "cell_type": "code",
   "execution_count": null,
   "metadata": {
    "collapsed": false
   },
   "outputs": [],
   "source": [
    "f=-0.05\n",
    "#gamma = 0.05\n",
    "\n",
    "t = numpy.arange(0,T+dt,dt)\n",
    "x = numpy.empty([nt+1,npart])\n",
    "\n",
    "x[0]=x0\n",
    "\n",
    "for i in range(nt):\n",
    "   \n",
    "        x[i+1]=x[i]+f*x[i]*dt+numpy.sqrt(2*alpha*dt)*numpy.random.normal(0,1,npart)\n",
    "\n",
    "    \n",
    "pyplot.figure(2)\n",
    "pyplot.title('Distributions au temps final')\n",
    "pyplot.hist(x[nt],bins=numpy.arange(-300,300., 0.5),normed=False, color='red');"
   ]
  },
  {
   "cell_type": "code",
   "execution_count": null,
   "metadata": {
    "collapsed": false
   },
   "outputs": [],
   "source": [
    "f=-1\n",
    "#gamma = 1\n",
    "\n",
    "t = numpy.arange(0,T+dt,dt)\n",
    "x = numpy.empty([nt+1,npart])\n",
    "\n",
    "x[0]=x0\n",
    "\n",
    "for i in range(nt):\n",
    "   \n",
    "        x[i+1]=x[i]+f*x[i]*dt+numpy.sqrt(2*alpha*dt)*numpy.random.normal(0,1,npart)\n",
    "    \n",
    "pyplot.figure(2)\n",
    "pyplot.title('Distributions au temps final')\n",
    "pyplot.hist(x[nt],bins=numpy.arange(-300,300., 0.5),normed=False, color='red');"
   ]
  },
  {
   "cell_type": "markdown",
   "metadata": {},
   "source": [
    "### Evolution dans le temps"
   ]
  },
  {
   "cell_type": "code",
   "execution_count": null,
   "metadata": {
    "collapsed": false
   },
   "outputs": [],
   "source": [
    "fig = pyplot.figure(figsize=(8,5))\n",
    "ax = pyplot.axes(xlim=(-10,10), ylim=(0.0,1.1))\n",
    "line = ax.plot([], [], color='cyan', lw=2)[0]\n",
    "pyplot.xlabel('x (km)', fontsize=14) #x label\n",
    "pyplot.ylabel('rho (voitures/km)', fontsize=14) #y label\n",
    "pyplot.title('Densité du gaz en fonction de la position', y=1.08)\n",
    "pyplot.close()\n",
    "\n",
    "fig = pyplot.figure(2)\n",
    "ax = pyplot.axes(xlim=(-300,300),ylim=(0.0,1.0))\n",
    "pyplot.title('Distributions au temps final')\n",
    "pyplot.hist(x[nt],bins=numpy.arange(-300,300., 0.5),normed=True, color='red');"
   ]
  },
  {
   "cell_type": "code",
   "execution_count": null,
   "metadata": {
    "collapsed": false
   },
   "outputs": [],
   "source": [
    "import matplotlib.patches as patches\n",
    "import matplotlib.path as path\n",
    "import matplotlib.animation as animation\n",
    "\n",
    "from IPython.display import HTML\n",
    "\n",
    "fig = pyplot.figure(2)\n",
    "ax = pyplot.axes(xlim=(-300,300),ylim=(0.0, 1.0))\n",
    "\n",
    "    \n",
    "    \n",
    "fig, ax = pyplot.subplots()\n",
    "\n",
    "# histogram our data with numpy\n",
    "x =numpy.sqrt(2*alpha*dt)*numpy.random.normal(0,1,npart)\n",
    "\n",
    "n, bins = numpy.histogram(x, 100)\n",
    "\n",
    "# get the corners of the rectangles for the histogram\n",
    "left = numpy.array(bins[:-1])\n",
    "right = numpy.array(bins[1:])\n",
    "bottom = numpy.zeros(len(left))\n",
    "top = bottom + n\n",
    "nrects = len(left)\n",
    "\n",
    "# here comes the tricky part -- we have to set up the vertex and path\n",
    "# codes arrays using moveto, lineto and closepoly\n",
    "\n",
    "# for each rect: 1 for the MOVETO, 3 for the LINETO, 1 for the\n",
    "# CLOSEPOLY; the vert for the closepoly is ignored but we still need\n",
    "# it to keep the codes aligned with the vertices\n",
    "nverts = nrects*(1 + 3 + 1)\n",
    "verts = numpy.zeros((nverts, 2))\n",
    "codes = numpy.ones(nverts, int) * path.Path.LINETO\n",
    "codes[0::5] = path.Path.MOVETO\n",
    "codes[4::5] = path.Path.CLOSEPOLY\n",
    "verts[0::5, 0] = left\n",
    "verts[0::5, 1] = bottom\n",
    "verts[1::5, 0] = left\n",
    "verts[1::5, 1] = top\n",
    "verts[2::5, 0] = right\n",
    "verts[2::5, 1] = top\n",
    "verts[3::5, 0] = right\n",
    "verts[3::5, 1] = bottom\n",
    "\n",
    "barpath = path.Path(verts, codes)\n",
    "patch = patches.PathPatch(\n",
    "    barpath, facecolor='green', edgecolor='yellow', alpha=0.5)\n",
    "ax.add_patch(patch)\n",
    "\n",
    "ax.set_xlim(-300, 300)\n",
    "ax.set_ylim(0.0, 1.0)\n",
    "\n",
    "f=-0.1\n",
    "x = numpy.zeros([npart])\n",
    "    \n",
    "def animate(i):\n",
    "    global x\n",
    "    y=x.copy() #on conserve ici la valeur du temps précédent\n",
    "    \n",
    "    y=x+f*x*dt+numpy.sqrt(2*alpha*dt)*numpy.random.normal(0,1,npart)\n",
    "    x=y.copy()\n",
    "    n, bins = numpy.histogram(x, 100)\n",
    "    top = bottom + n\n",
    "    verts[1::5, 1] = top\n",
    "    verts[2::5, 1] = top\n",
    "    return [patch, ]\n",
    "\n",
    "ani = animation.FuncAnimation(fig, animate, 100, repeat=False, blit=True)\n",
    "pyplot.close()\n",
    "HTML(ani.to_html5_video())"
   ]
  },
  {
   "cell_type": "code",
   "execution_count": null,
   "metadata": {
    "collapsed": false
   },
   "outputs": [],
   "source": [
    "import numpy as np\n",
    "\n",
    "import matplotlib.pyplot as plt\n",
    "import matplotlib.patches as patches\n",
    "import matplotlib.path as path\n",
    "import matplotlib.animation as animation\n",
    "\n",
    "from IPython.display import HTML\n",
    "fig, ax = plt.subplots()\n",
    "\n",
    "# histogram our data with numpy\n",
    "data = np.random.randn(1000)\n",
    "n, bins = np.histogram(data, 100)\n",
    "\n",
    "# get the corners of the rectangles for the histogram\n",
    "left = np.array(bins[:-1])\n",
    "right = np.array(bins[1:])\n",
    "bottom = np.zeros(len(left))\n",
    "top = bottom + n\n",
    "nrects = len(left)\n",
    "\n",
    "# here comes the tricky part -- we have to set up the vertex and path\n",
    "# codes arrays using moveto, lineto and closepoly\n",
    "\n",
    "# for each rect: 1 for the MOVETO, 3 for the LINETO, 1 for the\n",
    "# CLOSEPOLY; the vert for the closepoly is ignored but we still need\n",
    "# it to keep the codes aligned with the vertices\n",
    "nverts = nrects*(1 + 3 + 1)\n",
    "verts = np.zeros((nverts, 2))\n",
    "codes = np.ones(nverts, int) * path.Path.LINETO\n",
    "codes[0::5] = path.Path.MOVETO\n",
    "codes[4::5] = path.Path.CLOSEPOLY\n",
    "verts[0::5, 0] = left\n",
    "verts[0::5, 1] = bottom\n",
    "verts[1::5, 0] = left\n",
    "verts[1::5, 1] = top\n",
    "verts[2::5, 0] = right\n",
    "verts[2::5, 1] = top\n",
    "verts[3::5, 0] = right\n",
    "verts[3::5, 1] = bottom\n",
    "\n",
    "barpath = path.Path(verts, codes)\n",
    "patch = patches.PathPatch(\n",
    "    barpath, facecolor='green', edgecolor='yellow', alpha=0.5)\n",
    "ax.add_patch(patch)\n",
    "\n",
    "ax.set_xlim(left[0], right[-1])\n",
    "ax.set_ylim(bottom.min(), top.max())\n",
    "\n",
    "\n",
    "def animate(i):\n",
    "    # simulate new data coming in\n",
    "    data = np.random.randn(1000)\n",
    "    n, bins = np.histogram(data, 100)\n",
    "    top = bottom + n\n",
    "    verts[1::5, 1] = top\n",
    "    verts[2::5, 1] = top\n",
    "    return [patch, ]\n",
    "\n",
    "ani = animation.FuncAnimation(fig, animate, 100, repeat=False, blit=True)\n",
    "plt.show()\n",
    "HTML(ani.to_html5_video())"
   ]
  },
  {
   "cell_type": "markdown",
   "metadata": {},
   "source": [
    "## Challenge 3: Modèle d'Ising\n",
    "Partie 1:\n",
    "- Check that this is not a coincidence and try again for different lattice configurations. You may use the following routine to generate different ones with random initial dipole orientations.\n",
    "\n",
    "Partie 2:\n",
    "- Perform a series of runs with $\\alpha \\in [0 1]$ and plot the average energy of the system and its magnetisation as a function of $\\alpha$. Estimate the critical value of $\\alpha$ at which the phase transition occurs. Is it compatible with Onsager's exact solution for the system?\n",
    "- Redo the analysis with a different set of boundary conditions for the lattice and a different initial lattice configuration. For example, you could assume that on the borders all the spins are pointing upwards on the borders while they are randomly oriented in the bulk."
   ]
  },
  {
   "cell_type": "code",
   "execution_count": 2,
   "metadata": {
    "collapsed": false
   },
   "outputs": [],
   "source": [
    "import matplotlib.cm as cm\n",
    "from JSAnimation.IPython_display import display_animation"
   ]
  },
  {
   "cell_type": "code",
   "execution_count": 3,
   "metadata": {
    "collapsed": true
   },
   "outputs": [],
   "source": [
    "def initial_state(nx,ny):\n",
    "    \"\"\" Creates a lattice with random spin orientations\n",
    "   \n",
    "    Parameters:\n",
    "    ----------\n",
    "    nx   : int\n",
    "        Discretization points in x\n",
    "    ny   : int\n",
    "        Discretization points in y\n",
    "   \n",
    "    Returns:\n",
    "    -------\n",
    "    r: 2D array of spins\n",
    "    \"\"\"\n",
    "       \n",
    "    # Uniform random spins between 0 and 1  \n",
    "    r = numpy.random.randint(0,2,(nx,ny))\n",
    "    \n",
    "    # Where r=0, we assign a negative spin\n",
    "    r[r==0] =-1\n",
    "\n",
    "    return r"
   ]
  },
  {
   "cell_type": "code",
   "execution_count": 4,
   "metadata": {
    "collapsed": true
   },
   "outputs": [],
   "source": [
    "def energy_at_site(sp,alpha,sigma,ix,iy):\n",
    "    \"\"\" Computes the contribution to the energy for a given spin\n",
    "    at location ix,iy for a lattice with periodic boundary conditions\n",
    "   \n",
    "    Parameters:\n",
    "    ----------\n",
    "    sp: numpy array\n",
    "        array of spins\n",
    "    alpha  : real\n",
    "        coupling constant J/(kb*T)\n",
    "    sigma   : int\n",
    "        spin at site ix,iy\n",
    "    ix   : int\n",
    "        location in x\n",
    "    iy   : int\n",
    "        location in y\n",
    "    \n",
    "   \n",
    "    Returns:\n",
    "    -------\n",
    "    energy: energy for the given configuration\n",
    "    \"\"\"\n",
    "    \n",
    "    energy=-alpha*sigma*(sp[(ix-1)%nx,iy]+sp[(ix+1)%nx,iy]+sp[ix,(iy-1)%ny]+sp[ix,(iy+1)%ny])\n",
    "\n",
    "    return energy"
   ]
  },
  {
   "cell_type": "code",
   "execution_count": 5,
   "metadata": {
    "collapsed": true
   },
   "outputs": [],
   "source": [
    "def metropolis_at_site(sp,alpha,ix,iy):\n",
    "    \"\"\" Flips a dipole at site ix, iy when probability condition is met \n",
    "   \n",
    "    Parameters:\n",
    "    ----------\n",
    "    sp: numpy array\n",
    "        array of spins\n",
    "    alpha  : real\n",
    "        coupling constant J/(kb*T)\n",
    "    ix   : int\n",
    "        location in x\n",
    "    iy   : int\n",
    "        location in y\n",
    "    \"\"\"\n",
    "    sigma=sp[ix,iy]\n",
    "    energy_before_flip = energy_at_site(sp,alpha,sigma,ix,iy)\n",
    "    sigma = -sigma\n",
    "    energy_if_site_flipped = energy_at_site(sp,alpha,sigma,ix,iy)\n",
    "    \n",
    "    # Flip the site with Metropolis probability\n",
    "    # Condition is always satisifed if dE < 0\n",
    "    if (numpy.random.random_sample()<numpy.exp(-(energy_if_site_flipped \\\n",
    "                                               -energy_before_flip))):\n",
    "        sp[ix,iy]=-sp[ix,iy]"
   ]
  },
  {
   "cell_type": "markdown",
   "metadata": {},
   "source": [
    "Dans la cellule suivante, on effectue la méthode en partant à chaque fois d'un état initial différent. Suivant cet état initial, le résultat attendu est différent. Nous renvoyons la valeur calculée par la méthode ainsi que la valeur théorique et le delta correspondant. Il y a en fait cinq cas possible repris ci-dessous en fonction de la distribution initiale."
   ]
  },
  {
   "cell_type": "code",
   "execution_count": null,
   "metadata": {
    "collapsed": false
   },
   "outputs": [],
   "source": [
    "nx=10\n",
    "ny=10\n",
    "\n",
    "# Non-dimensional coupling constant J/(kb*T)\n",
    "alpha = 0.1\n",
    "\n",
    "def get_updown_ratio() :\n",
    "    \n",
    "    # Initial spins at each site\n",
    "    sp = initial_state(nx,ny)\n",
    "    #pyplot.figure(figsize=(4,4))\n",
    "    #pyplot.imshow(sp,interpolation=\"none\",origin='lower')\n",
    "\n",
    "\n",
    "    NMC = 100000\n",
    "    states = numpy.empty(NMC+1)\n",
    "    states[0]=sp[5,5]\n",
    "\n",
    "    for n in range(0,NMC):\n",
    "        metropolis_at_site(sp,alpha,5,5)\n",
    "        states[n]=sp[5,5]\n",
    "\n",
    "    ups = numpy.extract(states==1, states).size\n",
    "    downs = NMC - ups\n",
    "    delta=energy_at_site(sp,alpha,-1,5,5)-energy_at_site(sp,alpha,1,5,5)\n",
    "    \n",
    "    \n",
    "    \n",
    "    return (ups/downs, numpy.exp(delta))\n",
    "    \n"
   ]
  },
  {
   "cell_type": "markdown",
   "metadata": {},
   "source": [
    "Spins entourant la case (5,5):\n",
    "- 4 rouges 0 bleu => $\\frac{p({\\rm up})}{p({\\rm downs})} = e^{-\\Delta E}=e^{0.8}\\approx 2.22$\n",
    "- 3 rouges 1 bleu => $\\frac{p({\\rm up})}{p({\\rm downs})} = e^{-\\Delta E}=e^{0.4}\\approx 1.49$\n",
    "- 2 rouges 2 bleus => $\\frac{p({\\rm up})}{p({\\rm downs})} = e^{-\\Delta E}=e^{0.0}=1.0$\n",
    "- 1 rouge 3 bleus => $\\frac{p({\\rm up})}{p({\\rm downs})} = e^{-\\Delta E}=e^{-0.4}\\approx 0.67$\n",
    "- 0 rouge 4 bleus => $\\frac{p({\\rm up})}{p({\\rm downs})} = e^{-\\Delta E}=e^{-0.8}\\approx 0.45$\n"
   ]
  },
  {
   "cell_type": "markdown",
   "metadata": {},
   "source": [
    "Ci-dessous, nous exécutons get_updown_ratio() plusieurs fois jusqu'à obtenir tous les cas possibles et vérifier la correspondance.\n",
    "\n",
    "Le temps d'exécution de cette cellule varie car le temps écoulé avant l'obtention d'une combinaison inédite parmi les cinq est variable et la probabilité d'obtention d'une des cinq combinaisons diffère selon la combinaison."
   ]
  },
  {
   "cell_type": "code",
   "execution_count": null,
   "metadata": {
    "collapsed": false
   },
   "outputs": [],
   "source": [
    "a = numpy.zeros(5)\n",
    "c = numpy.zeros(5)\n",
    "i=0\n",
    "while (a[4]==0) : \n",
    "    b = get_updown_ratio()\n",
    "     \n",
    "    if b[1] in a :\n",
    "        e=0\n",
    "    else :\n",
    "        \n",
    "        a[i]=b[1]\n",
    "        c[i]=b[0]\n",
    "        \n",
    "        i+=1\n",
    "print ('exp (- ΔE ) =',a)\n",
    "print ('taux de haut/bas = ',c)\n",
    "print ('')\n",
    "print('différence entre le taux obtenu et exp (- ΔE ) =', abs(a-c))\n"
   ]
  },
  {
   "cell_type": "markdown",
   "metadata": {},
   "source": [
    "\n",
    "On observe bien que la méthode métropolis donne un résultat cohérent quel que soit l'état initial de distribution des spins."
   ]
  },
  {
   "cell_type": "markdown",
   "metadata": {},
   "source": [
    " #### Partie 2\n",
    " On initialise le réseau avec tout les spins up (rouge)"
   ]
  },
  {
   "cell_type": "code",
   "execution_count": 6,
   "metadata": {
    "collapsed": true
   },
   "outputs": [],
   "source": [
    "nx=100\n",
    "ny=100\n",
    "sp = numpy.ones([nx,ny])\n",
    "NMC=100"
   ]
  },
  {
   "cell_type": "code",
   "execution_count": 7,
   "metadata": {
    "collapsed": true
   },
   "outputs": [],
   "source": [
    "def ising_model_metropolis(sp, NMC, nx, ny, alpha):\n",
    "    \"\"\" Creates a sequence of states for the Ising model using\n",
    "    the Metropolis algorithm\n",
    "   \n",
    "    Parameters:\n",
    "    ----------\n",
    "    sp   : initial lattice state\n",
    "    nx   : int\n",
    "        Discretization points in x\n",
    "    ny   : int\n",
    "        Discretization points in y\n",
    "    NMC  : int\n",
    "        Number of states to create\n",
    "    alpha  : real\n",
    "        coupling constant J/(kb*T)\n",
    "    Returns:\n",
    "    -------\n",
    "    states: sequence of states\n",
    "    \"\"\"\n",
    "    states = numpy.empty([NMC+1,nx,ny])\n",
    "    states[0] = sp.copy()\n",
    "    \n",
    "    for i in range(1,NMC+1):\n",
    "        for j in range(0,nx*ny):\n",
    "            ix=numpy.random.randint(0,nx)\n",
    "            iy=numpy.random.randint(0,ny)\n",
    "            metropolis_at_site(sp,alpha,ix,iy)\n",
    "        states[i]=sp.copy()\n",
    "    return states"
   ]
  },
  {
   "cell_type": "code",
   "execution_count": null,
   "metadata": {
    "collapsed": false
   },
   "outputs": [],
   "source": [
    "NMC=100\n",
    "alpha0=0.4 #on peut changer le alpha ici pour visualiser les différentes valeurs\n",
    "sp = numpy.ones([nx,ny])\n",
    "states_alpha = ising_model_metropolis(sp, NMC, nx, ny, alpha0)\n",
    "    \n",
    "fig = pyplot.figure(figsize=(5,5))\n",
    "img1 = pyplot.imshow(states_alpha[0],interpolation=\"none\",origin='lower',\\\n",
    "                     vmin=-1, vmax=1)\n",
    "def animate(i):\n",
    "        img1.set_array(states_alpha[i])\n",
    "    \n",
    "animation.FuncAnimation(fig, animate, frames=NMC, interval=200)\n"
   ]
  },
  {
   "cell_type": "code",
   "execution_count": 8,
   "metadata": {
    "collapsed": true
   },
   "outputs": [],
   "source": [
    "import numba\n",
    "from numba import jit"
   ]
  },
  {
   "cell_type": "code",
   "execution_count": 136,
   "metadata": {
    "collapsed": false
   },
   "outputs": [],
   "source": [
    "def mean_magnetisation(alpha,NMC):\n",
    "    state_up=numpy.ones([nx,ny])\n",
    "    state_alpha=ising_model_metropolis(state_up, NMC, nx, ny, alpha)\n",
    "    magnetisation_NMC=numpy.empty([2,NMC-50])\n",
    "    summagTOT=0\n",
    "    for i in range (50,NMC):#j'ai pris seulement les états au-delà de 10 pour ne pas perturber la moyenne (cf notebook)\n",
    "        summag=0\n",
    "        for j in range (nx):\n",
    "            for k in range (ny):\n",
    "                summag=summag+state_alpha[i,j,k] \n",
    "        magnetisation_NMC[0,i-50]=i\n",
    "        magnetisation_NMC[1,i-50]=summag/(nx*ny)\n",
    "        summagTOT=summagTOT + summag\n",
    "    pyplot.plot(magnetisation_NMC[0], magnetisation_NMC[1],label=r'$<M>$')\n",
    "    pyplot.legend()\n",
    "    pyplot.tight_layout()\n",
    "    return summagTOT/(NMC*nx*ny)"
   ]
  },
  {
   "cell_type": "code",
   "execution_count": 137,
   "metadata": {
    "collapsed": false
   },
   "outputs": [],
   "source": [
    "def mean_energy(alpha,ini,NMC):\n",
    "    nx=100\n",
    "    ny=100\n",
    "    \n",
    "    state_alpha=ising_model_metropolis(ini, NMC, nx, ny, alpha)\n",
    "    sumen=0\n",
    "    for i in range (10,NMC):#j'ai pris seulement les états au-delà de 10 pour ne pas perturber la moyenne (cf notebook)\n",
    "        for j in range (nx):\n",
    "            for k in range (ny):\n",
    "                sumen=sumen+energy_at_site(state_alpha[i],alpha,state_alpha[i,j,k],j,k)\n",
    "    return sumen/(NMC*nx*ny)"
   ]
  },
  {
   "cell_type": "markdown",
   "metadata": {},
   "source": [
    "On définit un état initial avec tous les spins up."
   ]
  },
  {
   "cell_type": "code",
   "execution_count": 138,
   "metadata": {
    "collapsed": false
   },
   "outputs": [
    {
     "name": "stdout",
     "output_type": "stream",
     "text": [
      "1.0\n"
     ]
    },
    {
     "data": {
      "text/plain": [
       "0.21134800000000001"
      ]
     },
     "execution_count": 138,
     "metadata": {},
     "output_type": "execute_result"
    },
    {
     "data": {
      "image/png": "[encoded data removed]",
      "text/plain": [
       "<matplotlib.figure.Figure at 0x7fcf6b006438>"
      ]
     },
     "metadata": {},
     "output_type": "display_data"
    }
   ],
   "source": [
    "nx=100\n",
    "ny=100\n",
    "\n",
    "state_up = numpy.ones([nx,ny])\n",
    "print(state_up[1,1])\n",
    "mean_magnetisation(0.4,100)"
   ]
  },
  {
   "cell_type": "code",
   "execution_count": 139,
   "metadata": {
    "collapsed": false
   },
   "outputs": [
    {
     "data": {
      "image/png": "[encoded data removed]",
      "text/plain": [
       "<matplotlib.figure.Figure at 0x7fcf67f30ef0>"
      ]
     },
     "metadata": {},
     "output_type": "display_data"
    }
   ],
   "source": [
    "state_up=numpy.ones([nx,ny])\n",
    "states_alpha=ising_model_metropolis(state_up, 100, nx, ny, 0.4)\n",
    "pyplot.figure()\n",
    "pyplot.plot(states_alpha.sum(axis=(1,2)),label=r'$\\alpha=0.4$')\n",
    "pyplot.legend()\n",
    "pyplot.tight_layout()"
   ]
  },
  {
   "cell_type": "code",
   "execution_count": 140,
   "metadata": {
    "collapsed": false
   },
   "outputs": [
    {
     "name": "stdout",
     "output_type": "stream",
     "text": [
      "0.0\n",
      "0.05\n",
      "0.1\n",
      "0.15000000000000002\n",
      "0.2\n",
      "0.25\n",
      "0.3\n",
      "0.35\n",
      "0.39999999999999997\n",
      "0.44999999999999996\n",
      "0.49999999999999994\n",
      "0.5499999999999999\n",
      "0.6\n",
      "0.65\n",
      "0.7000000000000001\n",
      "0.7500000000000001\n",
      "0.8000000000000002\n",
      "0.8500000000000002\n",
      "0.9000000000000002\n",
      "0.9500000000000003\n",
      "1.0000000000000002\n"
     ]
    },
    {
     "data": {
      "image/png": "[encoded data removed]",
      "text/plain": [
       "<matplotlib.figure.Figure at 0x7fcf6b11e278>"
      ]
     },
     "metadata": {},
     "output_type": "display_data"
    }
   ],
   "source": [
    "N=20\n",
    "d_alpha=1.0/N\n",
    "alpha=0.0\n",
    "i=0\n",
    "magnetisation=numpy.zeros([2,N+1])\n",
    "state_up=numpy.ones([nx,ny])\n",
    "while i<=N:\n",
    "    magnetisation[0,i]=alpha\n",
    "    print(alpha)\n",
    "    magnetisation[1,i]=mean_magnetisation(alpha,100)\n",
    "    alpha=alpha+d_alpha\n",
    "    i=i+1"
   ]
  },
  {
   "cell_type": "code",
   "execution_count": 121,
   "metadata": {
    "collapsed": false
   },
   "outputs": [
    {
     "name": "stdout",
     "output_type": "stream",
     "text": [
      "0.0\n",
      "0.05\n",
      "0.1\n",
      "0.15000000000000002\n",
      "0.2\n",
      "0.25\n",
      "0.3\n",
      "0.35\n",
      "0.39999999999999997\n",
      "0.44999999999999996\n",
      "0.49999999999999994\n",
      "0.5499999999999999\n",
      "0.6\n",
      "0.65\n",
      "0.7000000000000001\n",
      "0.7500000000000001\n",
      "0.8000000000000002\n",
      "0.8500000000000002\n",
      "0.9000000000000002\n",
      "0.9500000000000003\n",
      "1.0000000000000002\n"
     ]
    }
   ],
   "source": [
    "N=20\n",
    "d_alpha=1.0/N\n",
    "alpha=0.0\n",
    "i=0\n",
    "energy=numpy.zeros([2,N+1])\n",
    "state_up=numpy.ones([nx,ny])\n",
    "\n",
    "while i<=N:\n",
    "    energy[0,i]=alpha\n",
    "    print(alpha)\n",
    "    energy[1,i]=mean_energy(alpha,state_up,100)\n",
    "    alpha=alpha+d_alpha\n",
    "    i=i+1"
   ]
  },
  {
   "cell_type": "code",
   "execution_count": 141,
   "metadata": {
    "collapsed": false
   },
   "outputs": [
    {
     "data": {
      "image/png": "[encoded data removed]",
      "text/plain": [
       "<matplotlib.figure.Figure at 0x7fcf6aee21d0>"
      ]
     },
     "metadata": {},
     "output_type": "display_data"
    }
   ],
   "source": [
    "pyplot.plot(magnetisation[0], magnetisation[1],label=r'$<M>$')\n",
    "pyplot.legend()\n",
    "pyplot.xlim(0.0,1.0)\n",
    "pyplot.tight_layout()"
   ]
  },
  {
   "cell_type": "code",
   "execution_count": 122,
   "metadata": {
    "collapsed": false
   },
   "outputs": [
    {
     "data": {
      "image/png": "[encoded data removed]",
      "text/plain": [
       "<matplotlib.figure.Figure at 0x7fcf6bb4c080>"
      ]
     },
     "metadata": {},
     "output_type": "display_data"
    }
   ],
   "source": [
    "pyplot.plot(energy[0],energy[1],label=r'$<E>$')\n",
    "pyplot.legend()\n",
    "pyplot.xlim(0.0,1.0)\n",
    "pyplot.tight_layout()"
   ]
  },
  {
   "cell_type": "markdown",
   "metadata": {},
   "source": [
    "$<M>$ et $<E>$ deviennent tous deux non nuls à partir de $\\alpha\\approx0.35$. On peut donc s'attendre à ce que la transition de phase ait lieu à cette valeur.\n",
    "\n",
    "Formules utilisées:\n",
    "- Magnétisation:\n",
    "$$<M> = \\frac{\\sum_k M_k}{N_k}\n",
    "$$\n",
    "$$M_k=\\sum_{i=1}^N s_i$$ \n",
    "- Energie: \n",
    "$$<E> = \\frac{\\sum_k E_k}{N_k}\n",
    "$$\n",
    "$$\n",
    "E_k=-2\\alpha\\sum_{pairs(i,j)} s_i s_j$$\n"
   ]
  },
  {
   "cell_type": "markdown",
   "metadata": {},
   "source": [
    "#### Essayons avec une autre configuration initiale, où les spins sont up sur les bords et distribués aléatoirement à l'intérieur."
   ]
  },
  {
   "cell_type": "code",
   "execution_count": 129,
   "metadata": {
    "collapsed": false
   },
   "outputs": [],
   "source": [
    "state_up_on_edges = numpy.ones([nx,ny])\n",
    "interior_grid = numpy.random.randint(0,2,(nx,ny))\n",
    "state_up_on_edges[1:-1,1:-1] = interior_grid[1:-1,1:-1]\n",
    "state_up_on_edges[state_up_on_edges==0] =-1"
   ]
  },
  {
   "cell_type": "code",
   "execution_count": 130,
   "metadata": {
    "collapsed": false
   },
   "outputs": [
    {
     "data": {
      "text/plain": [
       "<matplotlib.image.AxesImage at 0x7fcf6aeabeb8>"
      ]
     },
     "execution_count": 130,
     "metadata": {},
     "output_type": "execute_result"
    },
    {
     "data": {
      "image/png": "[encoded data removed]",
      "text/plain": [
       "<matplotlib.figure.Figure at 0x7fcf6ac86550>"
      ]
     },
     "metadata": {},
     "output_type": "display_data"
    }
   ],
   "source": [
    "initial_edge=state_up_on_edges.copy()\n",
    "pyplot.figure(figsize=(4,4))\n",
    "pyplot.imshow(initial_edge,interpolation=\"none\",origin='lower')"
   ]
  },
  {
   "cell_type": "code",
   "execution_count": 155,
   "metadata": {
    "collapsed": true
   },
   "outputs": [],
   "source": [
    "def new_mean_mag(alpha,NMC):\n",
    "    state=initial_edge.copy()\n",
    "    state_alpha=numpy.ones([NMC+1,nx,ny])\n",
    "    state_alpha[:,10:-10,10:-10]=ising_model_metropolis(state, NMC, nx, ny, alpha)[:,10:-10,10:-10]\n",
    "    magnetisation_NMC=numpy.empty([2,NMC-50])\n",
    "    summagTOT=0\n",
    "    for i in range (50,NMC):#j'ai pris seulement les états au-delà de 10 pour ne pas perturber la moyenne (cf notebook)\n",
    "        summag=0\n",
    "        for j in range (nx):\n",
    "            for k in range (ny):\n",
    "                summag=summag+state_alpha[i,j,k] \n",
    "        magnetisation_NMC[0,i-50]=i\n",
    "        magnetisation_NMC[1,i-50]=summag/(nx*ny)\n",
    "        summagTOT=summagTOT + summag\n",
    "    pyplot.plot(magnetisation_NMC[0], magnetisation_NMC[1],label=r'$<M>$')\n",
    "    pyplot.legend()\n",
    "    pyplot.tight_layout()\n",
    "    return summagTOT/(NMC*nx*ny)"
   ]
  },
  {
   "cell_type": "code",
   "execution_count": 156,
   "metadata": {
    "collapsed": false
   },
   "outputs": [
    {
     "name": "stdout",
     "output_type": "stream",
     "text": [
      "0.0\n",
      "0.05\n",
      "0.1\n",
      "0.15000000000000002\n",
      "0.2\n",
      "0.25\n",
      "0.3\n",
      "0.35\n",
      "0.39999999999999997\n",
      "0.44999999999999996\n",
      "0.49999999999999994\n",
      "0.5499999999999999\n",
      "0.6\n",
      "0.65\n",
      "0.7000000000000001\n",
      "0.7500000000000001\n",
      "0.8000000000000002\n",
      "0.8500000000000002\n",
      "0.9000000000000002\n",
      "0.9500000000000003\n",
      "1.0000000000000002\n"
     ]
    },
    {
     "data": {
      "image/png": "[encoded data removed]",
      "text/plain": [
       "<matplotlib.figure.Figure at 0x7fcf6ac7fbe0>"
      ]
     },
     "metadata": {},
     "output_type": "display_data"
    }
   ],
   "source": [
    "N=20\n",
    "d_alpha=1.0/N\n",
    "alpha=0.0\n",
    "i=0\n",
    "magnetisation2=numpy.zeros([2,N+1])\n",
    "while i<=N:\n",
    "    magnetisation2[0,i]=alpha\n",
    "    print(alpha)\n",
    "    magnetisation2[1,i]=new_mean_mag(alpha,200)\n",
    "    alpha=alpha+d_alpha\n",
    "    i=i+1"
   ]
  },
  {
   "cell_type": "code",
   "execution_count": 148,
   "metadata": {
    "collapsed": false
   },
   "outputs": [
    {
     "name": "stdout",
     "output_type": "stream",
     "text": [
      "0.0\n",
      "0.05\n",
      "0.1\n",
      "0.15000000000000002\n",
      "0.2\n",
      "0.25\n",
      "0.3\n",
      "0.35\n",
      "0.39999999999999997\n",
      "0.44999999999999996\n",
      "0.49999999999999994\n",
      "0.5499999999999999\n",
      "0.6\n",
      "0.65\n",
      "0.7000000000000001\n",
      "0.7500000000000001\n",
      "0.8000000000000002\n",
      "0.8500000000000002\n",
      "0.9000000000000002\n",
      "0.9500000000000003\n",
      "1.0000000000000002\n"
     ]
    }
   ],
   "source": [
    "N=20\n",
    "d_alpha=1.0/N\n",
    "alpha=0.0\n",
    "i=0\n",
    "energy2=numpy.zeros([2,N+1])\n",
    "state2=initial_edge.copy()\n",
    "while i<=N:\n",
    "    energy2[0,i]=alpha\n",
    "    print(alpha)\n",
    "    energy2[1,i]=mean_energy(alpha,state2,NMC)\n",
    "    alpha=alpha+d_alpha\n",
    "    i=i+1"
   ]
  },
  {
   "cell_type": "code",
   "execution_count": 157,
   "metadata": {
    "collapsed": false
   },
   "outputs": [
    {
     "data": {
      "image/png": "[encoded data removed]",
      "text/plain": [
       "<matplotlib.figure.Figure at 0x7fcf6b1dd940>"
      ]
     },
     "metadata": {},
     "output_type": "display_data"
    }
   ],
   "source": [
    "pyplot.plot(magnetisation2[0], magnetisation2[1],label=r'$<M>$')\n",
    "pyplot.legend()\n",
    "pyplot.xlim(0.0,1.0)\n",
    "pyplot.tight_layout()"
   ]
  },
  {
   "cell_type": "code",
   "execution_count": 149,
   "metadata": {
    "collapsed": false
   },
   "outputs": [
    {
     "data": {
      "image/png": "[encoded data removed]",
      "text/plain": [
       "<matplotlib.figure.Figure at 0x7fcf6bb40160>"
      ]
     },
     "metadata": {},
     "output_type": "display_data"
    }
   ],
   "source": [
    "pyplot.plot(energy2[0],energy2[1],label=r'$<E>$')\n",
    "pyplot.legend()\n",
    "pyplot.xlim(0.0,1.0)\n",
    "pyplot.tight_layout()"
   ]
  },
  {
   "cell_type": "code",
   "execution_count": null,
   "metadata": {
    "collapsed": true
   },
   "outputs": [],
   "source": [
    "pyplot.figure(figsize=(4,4))\n",
    "pyplot.imshow(initial_edge,interpolation=\"none\",origin='lower')"
   ]
  }
 ],
 "metadata": {
  "anaconda-cloud": {},
  "kernelspec": {
   "display_name": "Python [Root]",
   "language": "python",
   "name": "Python [Root]"
  },
  "language_info": {
   "codemirror_mode": {
    "name": "ipython",
    "version": 3
   },
   "file_extension": ".py",
   "mimetype": "text/x-python",
   "name": "python",
   "nbconvert_exporter": "python",
   "pygments_lexer": "ipython3",
   "version": "3.4.5"
  }
 },
 "nbformat": 4,
 "nbformat_minor": 0
}
